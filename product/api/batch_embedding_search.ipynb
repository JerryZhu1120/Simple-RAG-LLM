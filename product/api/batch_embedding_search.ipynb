{
 "cells": [
  {
   "cell_type": "markdown",
   "metadata": {},
   "source": [
    "## Batch embedding search"
   ]
  },
  {
   "cell_type": "code",
   "execution_count": 11,
   "metadata": {},
   "outputs": [],
   "source": [
    "import requests\n",
    "import pymongo\n",
    "import json"
   ]
  },
  {
   "cell_type": "markdown",
   "metadata": {},
   "source": [
    "内部测试用"
   ]
  },
  {
   "cell_type": "code",
   "execution_count": 9,
   "metadata": {},
   "outputs": [],
   "source": [
    "client = pymongo.MongoClient('mongodb://localhost:27017/')\n",
    "url = \"http://localhost:63005/batch_embedding_search\"\n",
    "mydb = client['textdb']\n",
    "embeddings = [mydb['chunk'].find_one({\"chunk_id\":120})['embedding'], mydb['chunk'].find_one({\"chunk_id\":1})['embedding']]"
   ]
  },
  {
   "cell_type": "markdown",
   "metadata": {},
   "source": [
    "接口示例及说明"
   ]
  },
  {
   "cell_type": "code",
   "execution_count": null,
   "metadata": {},
   "outputs": [],
   "source": [
    "embeddings = [[0.1]*1536, [0.2]*1536]\n",
    "url = \"http://47.106.252.91:63001/batch_embedding_search\""
   ]
  },
  {
   "cell_type": "code",
   "execution_count": 32,
   "metadata": {},
   "outputs": [
    {
     "name": "stdout",
     "output_type": "stream",
     "text": [
      "{\n",
      "    \"Message\": \"\",\n",
      "    \"Status\": \"Success\",\n",
      "    \"result\": [\n",
      "        [\n",
      "            {\n",
      "                \"date\": \"2023-11-08 18:38:25\",\n",
      "                \"distances\": [\n",
      "                    0.32608020305633545\n",
      "                ],\n",
      "                \"doc_str_id\": \"jpmorgan_GPS-4554841-0\",\n",
      "                \"texts\": [\n",
      "                    \"Copyright 2023 JPMorgan Chase & Co. All rights reserved. This material or any portion hereof may not be reprinted, sold or \\nredistributed without the written consent of J.P. Morgan. It is strictly prohibited to use or share without prior written consent from J.P. \\nMorgan any research material received from J.P. Morgan or an authorized third-party (\\u201cJ.P. Morgan Data \\u201d) in any third-party \\nartificial intelligence (\\u201cAI \\u201d) systems or models when such J.P. Morgan Data is accessible by a third-party. It is permissible to use J.P. \\nMorgan Data for internal business purposes only in an AI system or model that protects the confidentiality of J.P. Morgan Data so as to \\nprevent any and all access to or use of such J.P. Morgan Data by any third-party. #$J&098$#*P\\nCompleted 09 Nov 2023 02:35 AM HKT Disseminated 09 Nov 2023 02:37 AM HKT\\nThis document is being provided for the exclusive use of Vicki Yip at CHINA INTERNATIONAL CAPITAL CORPORATION LIMITED - HONG KONG.\"\n",
      "                ]\n",
      "            },\n",
      "            {\n",
      "                \"date\": \"2023-11-12 10:38:52\",\n",
      "                \"distances\": [\n",
      "                    0.32715708017349243\n",
      "                ],\n",
      "                \"doc_str_id\": \"jpmorgan_GPS-4560720-0\",\n",
      "                \"texts\": [\n",
      "                    \"and/or limited content in this material as a result of calculations, adjustments, translations to different languages, and/or local regulatory \\nrestrictions, as applicable. These discrepancies should not impact the overall investment analysis, views and/or recommendations of the subject \\nThis document is being provided for the exclusive use of Vicki Yip at CHINA INTERNATIONAL CAPITAL CORPORATION LIMITED - HONG KONG.\\n{[{gct5NIx0AErel4YtGpuSca67abWBVYUr3LlDSVj5CdpNcXfyIYUJ9ZxGivS9aRFp}]} 18Kevin YinAC\\n(852) 2800-8521\\nkevin.yin@jpmorgan.comAsia Pacific Equity Research\\n12 November 2023\\n J P M O R G A N \\ncompany(ies) that may be discussed in the material. J.P. Morgan accepts no liability whatsoever for any loss arising from any use of this material \\nor its contents, and neither J.P. Morgan nor any of its respective directors, officers or employees, shall be in any way responsible for the contents\"\n",
      "                ]\n",
      "            },\n",
      "            {\n",
      "                \"date\": \"2023-11-24 09:38:37\",\n",
      "                \"distances\": [\n",
      "                    0.30885374546051025,\n",
      "                    0.33209627866744995,\n",
      "                    0.33188125491142273,\n",
      "                    0.3163743019104004\n",
      "                ],\n",
      "                \"doc_str_id\": \"jpmorgan_GPS-4569998-0\",\n",
      "                \"texts\": [\n",
      "                    \"Asia Pacific Equity Research\\n24 November 2023\\n          \\nChina Internet\\nThoughts ahead of Meituan/PDD/Bili results\\nInternet\\nAlex Yao AC\\n(86 21) 6106 6505\\nalex.yao@jpmorgan.com\\nBloomberg JPMA YAO <GO>\\nSAC Registration Number: S1730523020001\\nAndre Chang, CFA AC\\n(86-21) 6106 6362\\nandre.ch.chang@jpmorgan.com\\nBloomberg JPMA CHANG <GO>\\nSAC Registration Number: S1730520080002\\nDaniel Chen AC\\n(86-21) 6106 6205\\ndaniel.q.chen@jpmorgan.com\\nBloomberg JPMA DCHEN <GO>\\nSAC Registration Number: S1730521040001\\nAllen Li\\n(86-21) 6106 6358\\nallen.f.l i@jpmorgan.com\\nSAC Registration Number: S1730520030004\\nHenry Sun\\n(86-21) 6106 6161\\nhenry.sun@jpmchase.com\\nSAC Registration Number: S1730122070003\\nResearch Assistant: Nancy Liu\\nnancy.liu@jpmorgan.com\\nJ.P. Morgan Securities (China) Company \\nLimited\\nSee page 3 for analyst certification and important disclosures, including non -US analyst disclosures.\\nJ.P. Morgan does and seeks to do business with companies covered in its research reports. As a result, investors should be aw are that the\",\n",
      "                    \"24 November 2023Alex Yao\\n(86 21) 6106 6505\\nalex.yao@jpmorgan.com\\n     \\n          \\nCoverage Universe: Yao, Alex : Alibaba Group Holding Limited (9988.HK), Alibaba Group Holding Limited (BABA) (BABA), Alibaba \\nHealth (0241) (0241.HK), Alibaba Pictures (1060.HK), Autohome Inc (ATHM), Autohome Inc -H (2518.HK), Baidu.com (9888.HK), \\nBaidu.com (BIDU) (BIDU), KE Holdings (BEKE), KE Holdings -H (2423.HK), Kuaishou Technology (1024.HK), Maoyan \\nEntertainment (1896.HK), Meituan (3690) (3690.HK), Ping An Healthcare and Technology (1833) (1833.HK), Tencent (0700) \\n(0700.HK), Tencent Music Entertainment (TME), Tencent Music Entertainment -H (1698.HK), Trip.com Group Ltd (TCOM), Trip.com \\nGroup Ltd -H (9961.HK), Weibo Corporation (WB), Weibo Corporation -H (9898.HK)\\nChang, Andre : Baozun Inc -H (9991.HK), Baozun Inc. (BZUN), ClouDr (9955.HK), Dada Nexu s Limited (DADA), Dingdong (DDL), \\nJD.Com, Inc. (9618) (9618.HK), JD.com, Inc. (JD), PDD HOLDINGS INC (PDD), Vipshop (VIPS)\",\n",
      "                    \"24 November 2023Alex Yao\\n(86 21) 6106 6505\\nalex.yao@jpmorgan.com\\n     \\n          \\nAny long form nomenclature for references to China; Hong Kong; Taiwan; and Macau within this research material are Mainland China; \\nHong Kong SAR (China); Taiwan (China); and Macau SAR (China).\\nJ.P. Morgan Research may, from time to time, write on issuers or securities targeted by economic or financial sanctions impos ed or \\nadminister ed by the governmental authorities of the U.S., EU, UK or other relevant jurisdictions (Sanctioned Securities). Nothing in th is \\nreport is intended to be read or construed as encouraging, facilitating, promoting or otherwise approving investment or deali ng in such \\nSanctioned Securities. Clients should be aware of their own legal and compliance obligations when making investment decisions . \\nAny digital or crypto assets discussed in this research report are subject to a rapidly changing regulatory landscape. For relevant\",\n",
      "                    \"DISCLAIMS ALL LIABILITY TO THE EXTENT PERMITTED BY LAW. No Information constitu tes investment advice, except for \\nany applicable Information from MSCI ESG Research. Subject also to msci.com/disclaimer\\n\\\"Other Disclosures\\\" last revised October 21, 2023. \\nCopyright 2023 J.P. Morgan Securities (China) Company Limited. All rights reserved. This material or any portion hereof may \\nnot be reprinted, sold or redistributed without the written consent of J.P. Morgan. It is strictly prohibited to use or share withou t \\nprior written consent from J.P. Morgan any research material received from J.P. Morgan or an authorized third -party (\\u201cJ.P. \\nMorgan Data\\u201d) in any third -party artificial intelligence (\\u201cAI\\u201d) systems or models when such J.P. Morgan Data is accessible by a \\nthird-party. It is permissible to use J.P. Morgan Data for internal business purposes only in an AI system or model that protects\"\n",
      "                ]\n",
      "            },\n",
      "            {\n",
      "                \"date\": \"2023-11-28 12:55:57\",\n",
      "                \"distances\": [\n",
      "                    0.31584376096725464,\n",
      "                    0.31203651428222656\n",
      "                ],\n",
      "                \"doc_str_id\": \"jpmorgan_GPS-4572293-0\",\n",
      "                \"texts\": [\n",
      "                    \"specifically permitted by relevant laws. Not all research content is redistributed, e -mailed or made available to third -party aggregators. \\nFor all research material available on a particular stock, please contact your sales representative.\\nAny long form nomenclature for references to China; Hong Kong; Taiwan; and Macau within this research material are Mainland China; \\nHong Kong SAR (China); Taiwan (China); and Macau SAR (China).\\nJ.P. Morgan Research may, from time to time, write on issuers or securities targeted by economic or financial sanctions impos ed or \\nadminister ed by the governmental authorities of the U.S., EU, UK or other relevant jurisdictions (Sanctioned Securities). Nothing in th is \\nThis document is being provided for the exclusive use of Vicki Yip at CHINA INTERNATIONAL CAPITAL CORPORATION LIMITED - HONG KONG.\\n{[{gct5NIx0AErel4YtGpuSca67abWBVYUr3LlDSVj5CdpR94L3Vhu0NYizGwNz6stL}]} 6Asia Pacific Equity Research\\n28 November 2023Andre Chang, CFA\\n(86-21) 6106 6362\\nandre.ch.chang@jpmorgan.com\",\n",
      "                    \"Copyright 2023 J.P. Morgan Securities (China) Company Limited. All rights reserved. This material or any portion hereof may \\nnot be reprinted, sold or redistributed without the written consent of J.P. Morgan. It is strictly prohibited to use or share withou t \\nprior written consent from J.P. Morgan any research material received from J.P. Morgan or an authorized third -party (\\u201cJ.P. \\nMorgan Data\\u201d) in any third -party artificial intelligence (\\u201cAI\\u201d) systems or models when such J.P. Morgan Data is accessible by a \\nthird-party. It is permissible to use J.P. Morgan Data for internal business purposes only in an AI system or model that protects \\nthe confidentiality of J.P. Morgan Data so as to prevent any and all access to or use of such J.P. Morgan Data by any third -party . \\n#$J&098$#*P\\nCompleted    28 Nov 2023 08:55 PM HKT\\nDisseminated    28 Nov 2023 08:55 PM HKT\\nThis document is being provided for the exclusive use of Vicki Yip at CHINA INTERNATIONAL CAPITAL CORPORATION LIMITED - HONG KONG.\"\n",
      "                ]\n",
      "            }\n",
      "        ],\n",
      "        [\n",
      "            {\n",
      "                \"date\": \"2023-11-08 18:38:25\",\n",
      "                \"distances\": [\n",
      "                    0.32816004753112793,\n",
      "                    0.3306713104248047\n",
      "                ],\n",
      "                \"doc_str_id\": \"jpmorgan_GPS-4554841-0\",\n",
      "                \"texts\": [\n",
      "                    \"Global Markets Strategy\\n09 November 2023\\nJ P M O R G A N \\nwww.jpmorganmarkets.com\\nThis material is neither intended to be distributed to Mainland China investors nor to provide securities investment consultancy services within the \\nterritory of Mainland China. This material or any portion hereof may not be reprinted, sold or redistributed without the written consent of J.P. Morgan.                                                     \\nEquity Macro Research\\nRajiv Batra AC\\n(65) 6882-8151\\nrajiv.j.batra@jpmorgan.com\\nBloomberg  JPMA BATRA <GO>\\nJ.P. Morgan Securities Singapore Private Limited\\nMixo Das AC\\n(852) 2800-0511\\nmixo.das@jpmorgan.com\\nBloomberg  JPMA MDAS <GO>\\nJ.P. Morgan Securities (Asia Pacific) Limited/ J.P. \\nMorgan Broking (Hong Kong) Limited\\nKhoi Vu, CFA\\n(65) 6882-8170\\nkhoi.t.vu@jpmorgan.com\\nJ.P. Morgan Securities Singapore Private Limited\\nWendy Liu\\n(852) 2800-1087\\nwendy.m.liu@jpmorgan.com\\nJ.P. Morgan Securities (Asia Pacific) Limited/ J.P. \\nMorgan Broking (Hong Kong) Limited\\nTony SK Lee\\n(852) 2800-8857\",\n",
      "                    \"months \\nCumulative net trading activity as a % of gross exposure \\nSource: J.P. Morgan Prime Services .\\nThis document is being provided for the exclusive use of Vicki Yip at CHINA INTERNATIONAL CAPITAL CORPORATION LIMITED - HONG KONG.\\n{[{gct5NIx0AErel4YtGpuSca67abWBVYUr3LlDSVj5Cdr5IRdxYvB2RYxhWqAOPJBn}]} 6Rajiv BatraAC\\n(65) 6882-8151\\nrajiv.j.batra@jpmorgan.comGlobal Markets Strategy\\n09 November 2023\\n J P M O R G A N \\nFigure 15: EM futures positioning has dipped \\nNon-commercial net long position in MSCI EM futures, $bn\\nSource: Bloomberg Finance L.P., J.P. Morgan Equity Macro Research.Figure 16: Retail investors appear to be buying again in the U.S. \\nU.S. retail flows - rolling 20-day average (single stocks) in $mn\\nSource: Bloomberg Finance L.P., J.P. Morgan Equity Macro Research.\\nFigure 17: Retail investors are major participants in Asian equity \\nmarkets \\nYTD average, % of total cash turnover\"\n",
      "                ]\n",
      "            },\n",
      "            {\n",
      "                \"date\": \"2023-11-24 09:38:37\",\n",
      "                \"distances\": [\n",
      "                    0.3448050618171692\n",
      "                ],\n",
      "                \"doc_str_id\": \"jpmorgan_GPS-4569998-0\",\n",
      "                \"texts\": [\n",
      "                    \"Asia Pacific Equity Research\\n24 November 2023\\n          \\nChina Internet\\nThoughts ahead of Meituan/PDD/Bili results\\nInternet\\nAlex Yao AC\\n(86 21) 6106 6505\\nalex.yao@jpmorgan.com\\nBloomberg JPMA YAO <GO>\\nSAC Registration Number: S1730523020001\\nAndre Chang, CFA AC\\n(86-21) 6106 6362\\nandre.ch.chang@jpmorgan.com\\nBloomberg JPMA CHANG <GO>\\nSAC Registration Number: S1730520080002\\nDaniel Chen AC\\n(86-21) 6106 6205\\ndaniel.q.chen@jpmorgan.com\\nBloomberg JPMA DCHEN <GO>\\nSAC Registration Number: S1730521040001\\nAllen Li\\n(86-21) 6106 6358\\nallen.f.l i@jpmorgan.com\\nSAC Registration Number: S1730520030004\\nHenry Sun\\n(86-21) 6106 6161\\nhenry.sun@jpmchase.com\\nSAC Registration Number: S1730122070003\\nResearch Assistant: Nancy Liu\\nnancy.liu@jpmorgan.com\\nJ.P. Morgan Securities (China) Company \\nLimited\\nSee page 3 for analyst certification and important disclosures, including non -US analyst disclosures.\\nJ.P. Morgan does and seeks to do business with companies covered in its research reports. As a result, investors should be aw are that the\"\n",
      "                ]\n",
      "            },\n",
      "            {\n",
      "                \"date\": \"2023-11-28 12:55:57\",\n",
      "                \"distances\": [\n",
      "                    0.3225269317626953,\n",
      "                    0.2759479880332947,\n",
      "                    0.33729249238967896,\n",
      "                    0.3169897198677063,\n",
      "                    0.30065155029296875\n",
      "                ],\n",
      "                \"doc_str_id\": \"jpmorgan_GPS-4572293-0\",\n",
      "                \"texts\": [\n",
      "                    \"factor in making their investment decision.\\nWe expect PDD\\u2019s share price to respond positively to another all-round \\nstrong result(revenue/adj. EPS grew 94% /35% YoY, 25%/32 % above \\nconsensus) , especially the 315%  YoY/103% QoQ growth intransaction \\nservice revenue that should bedriven by Temu\\u2019s fast growth ,in our \\nview . On top of that, the24% QoQ increase inadjusted operating \\nprofit vs. only 5% QoQ increase incore online market revenue and 11% \\nQoQ increase in income tax expenses implies Temu\\u2019s loss can only \\nincrease mildly QoQ with improving unit economics ,based on our \\ncalculation , suggesting strong growth with healthy ROI. Core online \\nmarketing revenue growth of 39% YoY, largely in-line with consensus, \\nshows no sign of reversal of its China domestic market share gain .\\nKey Positives\\n\\uf0b7Total revenue grew 94% YoY/32% QoQ, 32%/25% above \\nJPMe/consensus estimates, driven largely by transaction service revenu e \\n(+315% YoY/103% QoQ, 69%/75% above JPMe/consensus) .\",\n",
      "                    \"JPMe/consensus estimates, driven largely by transaction service revenu e \\n(+315% YoY/103% QoQ, 69%/75% above JPMe/consensus) .\\n\\uf0b7Adju sted operating profit grew 47% YoY/24% QoQ on 26% margin vs. \\n28% in 2Q23 ,which suggests Temu\\u2019s loss most likely only widened \\nmildly QoQ despite the fast sequential growth of GMV/revenue implied \\nby transaction service revenue , as the mild QoQ increase incore online \\nmarketing revenue and income tax expenses imply China profit didn\\u2019t \\ngrow that much to cover a heavy loss from Temu.Adjusted net profit \\ngrew 37% YoY/12% QoQ, beating JPMe/consensus by 34%/30%.\\nKey Negatives/Question Marks\\n\\uf0b7Online marketing revenu e growth decelerated to 39% YoY (+5% QoQ), \\njust 2% above consensus estimate, suggesting the risk of China \\nGMV/marketing take rate growth to normalize into 2024 still stands.\\nLikely Changes to Consensus\\n\\uf0b7We expect 2023E consensus revenue/earnings estimate tobe revised up \\non better -than-expected 3Q23 numbers.\\nExpected Stock Reaction\",\n",
      "                    \"\\uf0b7\\nInvestment Thesis \\nWe believe PDD\\u2019s strong 2Q23 result has reaffirmed the stock as the best growth play in the China ecommerce space. \\nContinued strong online marketing revenue growth of 50% YoY highlights its competitiveness in the value -for-money \\nspace with further market s hare gain and higher monetization despite more competition from Alibaba/JD, leading us to \\nbelieve its China core revenue will still outgrow peers, supporting its valuation premium . Theunexpected sequential \\nimprovement of adjusted net margin to 29% suggest s that 1) higher monetization has lifted its China domestic operating \\nmargin to 40% from 35% in 2022, based on our estimate, and it should be sustainable; 2) quarterly loss from Temu is in\\nline with the market\\u2019s expectation of RMB 5b despite its fast ramp -up, suggesting PDD\\u2019s investment discipline . We expect\\nconsensus to lift profitestimate s (JPMe 2023/24 adj. EPS 28%/24% above consensus), with earnings downside risks from\",\n",
      "                    \"consensus to lift profitestimate s (JPMe 2023/24 adj. EPS 28%/24% above consensus), with earnings downside risks from \\nTemu more manageable than feared earlier. We reiterate OW .\\nValuation\\nOur Jun -24 PT o f US$120 is based on 20x 2024EP/E, at the high end of major China Internet companies\\u2019 historical range. \\nWe believe this is justified by PDD\\u2019s growth outlook on the back of market share gain, which has become a scarcity among \\nlisted companies .YE 31 De c 3Q22 2Q23 3Q23 3Q23 YoY QoQ Delta\\nRMBm Actua lCons ensus % delta Actua l Actua l JPM es t. Actua l % % %\\nNet Rev enues 68,840    54,872         25% 35,504  52,281     52,126      68,840     94% 32% 32%\\nGross profit 42,010    35,240         19% 28,090  33,591     33,112      42,010     50% 25% 27%\\nOperating profit (GAAP) 16,656    na 10,437  12,719     9,360         16,656     60% 31% 78%\\nOperating profit (non GAAP) 18,126    na 12,301  14,609     11,837      18,126     47% 24% 53%\",\n",
      "                    \"Net margin (non GAAP) 24.7% 23.8% 0.9% 35.1% 29.2% 24.4% 24.7% -10% -4% 0.3%3Q23\\nThis document is being provided for the exclusive use of Vicki Yip at CHINA INTERNATIONAL CAPITAL CORPORATION LIMITED - HONG KONG.\\n{[{gct5NIx0AErel4YtGpuSca67abWBVYUr3LlDSVj5CdpR94L3Vhu0NYizGwNz6stL}]} 3Asia Pacific Equity Research\\n28 November 2023Andre Chang, CFA\\n(86-21) 6106 6362\\nandre.ch.chang@jpmorgan.com\\nRisks to Rating and Price Target\\nKey downside risks to our rating and price target include: (1) a worse -than-expected deceleration of revenue growth due to \\ncompetition and/or the macro environment; (2) more aggressive investments in Temu without matching ROI; and \\n(3)resurfacing ADR delisting risk due to U.S. -China tensions.\\nThis document is being provided for the exclusive use of Vicki Yip at CHINA INTERNATIONAL CAPITAL CORPORATION LIMITED - HONG KONG.\\n{[{gct5NIx0AErel4YtGpuSca67abWBVYUr3LlDSVj5CdpR94L3Vhu0NYizGwNz6stL}]} 4Asia Pacific Equity Research\\n28 November 2023Andre Chang, CFA\\n(86-21) 6106 6362\"\n",
      "                ]\n",
      "            }\n",
      "        ]\n",
      "    ]\n",
      "}\n"
     ]
    }
   ],
   "source": [
    "# 必传参数：\n",
    "#   embedding: [float] * 1536\n",
    "# 可选参数：\n",
    "#   company_windcodes: 默认不限制公司范围\n",
    "#   months: 默认不限制时间范围\n",
    "#   datatype_names: 默认不限制数据类型\n",
    "#   top_k: 默认为8\n",
    "#   copyright_names：默认为所有公开和购买信息，不包含用户自行上传的数据\n",
    "response = requests.post(url, json={\n",
    "        \"embeddings\": embeddings,\n",
    "        \"company_windcodes\": [\"MSFT.O\", \"PDD.O\"],\n",
    "        \"months\": [202311, 202312],\n",
    "        \"datatype_names\": [\"research\", \"news\"],\n",
    "        \"top_k\": 8,\n",
    "        \"copyright_names\": [\"cnbc\", \"jpmorgan\"],\n",
    "    })\n",
    "print(json.dumps(response.json(), indent=4))"
   ]
  }
 ],
 "metadata": {
  "kernelspec": {
   "display_name": "llm",
   "language": "python",
   "name": "python3"
  },
  "language_info": {
   "codemirror_mode": {
    "name": "ipython",
    "version": 3
   },
   "file_extension": ".py",
   "mimetype": "text/x-python",
   "name": "python",
   "nbconvert_exporter": "python",
   "pygments_lexer": "ipython3",
   "version": "3.9.18"
  }
 },
 "nbformat": 4,
 "nbformat_minor": 2
}
