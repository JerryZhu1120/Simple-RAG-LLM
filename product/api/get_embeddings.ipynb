{
 "cells": [
  {
   "cell_type": "markdown",
   "metadata": {},
   "source": [
    "## Get embeddings by document str ids\n",
    "\n",
    "Given the document str ids ['id1', 'id2', ...], send post requests to obtain their embeddings [[1536-dim emb 1 of doc 1, 1536-dim emb 2 of doc 1, ...], [1536-dim emb 1 of doc 2, 1536-dim emb 2 of doc 2, ...], ...]\n",
    "\n",
    "Notes\n",
    "\n",
    "1. each document are split into several chunks, each of them has max length 1024 with 128 overlaps.\n",
    "Thus, each document may have several embeddings.\n",
    "\n",
    "2. if the id does not exists, the embedding list is empty"
   ]
  },
  {
   "cell_type": "code",
   "execution_count": null,
   "metadata": {},
   "outputs": [],
   "source": [
    "import requests\n",
    "\n",
    "url = \"http://localhost:5000/get_embeddings_by_doc_str_ids\"\n",
    "doc_str_ids = [\"ubs_200417043\", \"ubs_200417497\", \"id_not_exists\"]\n",
    "\n",
    "response = requests.post(url, json={\"doc_str_ids\": doc_str_ids})\n",
    "if response.status_code == 200:\n",
    "    resp = response.json()\n",
    "    if resp['Status']==\"Success\":\n",
    "        embeddings = resp['Embeddings']\n",
    "        print(embeddings)\n",
    "    else:\n",
    "        print(\"Error:\", resp['Message'])\n",
    "else:\n",
    "    print(\"Error:\", response.status_code)\n"
   ]
  },
  {
   "cell_type": "code",
   "execution_count": 7,
   "metadata": {},
   "outputs": [
    {
     "name": "stdout",
     "output_type": "stream",
     "text": [
      "number of query documents: 2\n",
      "number of embeddings in first document: 242688\n"
     ]
    }
   ],
   "source": [
    "print(\"number of query documents:\", len(embeddings))\n",
    "print(\"number of embeddings in first document:\", len(embeddings[0]))\n",
    "print(\"dimension of each embedding:\", len(embeddings[0][0]))"
   ]
  }
 ],
 "metadata": {
  "kernelspec": {
   "display_name": "llm",
   "language": "python",
   "name": "python3"
  },
  "language_info": {
   "codemirror_mode": {
    "name": "ipython",
    "version": 3
   },
   "file_extension": ".py",
   "mimetype": "text/x-python",
   "name": "python",
   "nbconvert_exporter": "python",
   "pygments_lexer": "ipython3",
   "version": "3.9.18"
  }
 },
 "nbformat": 4,
 "nbformat_minor": 2
}
