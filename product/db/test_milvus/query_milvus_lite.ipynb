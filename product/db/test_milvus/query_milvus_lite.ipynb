{
 "cells": [
  {
   "cell_type": "markdown",
   "metadata": {},
   "source": [
    "## 使用 Milvus 向量库查询索引\n",
    "\n",
    "官网：https://milvus.io/docs/milvus_lite.md\n",
    "\n",
    "样例：https://github.com/milvus-io/milvus-lite/blob/main/examples/example.py"
   ]
  },
  {
   "cell_type": "code",
   "execution_count": 1,
   "metadata": {},
   "outputs": [],
   "source": [
    "import random\n",
    "from milvus import default_server\n",
    "from pymilvus import (\n",
    "    connections,\n",
    "    FieldSchema, CollectionSchema, DataType,\n",
    "    Collection,\n",
    "    utility\n",
    ")"
   ]
  },
  {
   "cell_type": "code",
   "execution_count": 2,
   "metadata": {},
   "outputs": [],
   "source": [
    "# Optional, if you want store all related data to specific location\n",
    "# default it wil using %APPDATA%/milvus-io/milvus-server\n",
    "default_server.set_base_dir('db')\n",
    "\n",
    "# star you milvus server\n",
    "default_server.start()\n",
    "\n",
    "_HOST = '127.0.0.1'\n",
    "# The port may be changed, by default it's 19530\n",
    "_PORT = default_server.listen_port\n",
    "\n",
    "# Const names\n",
    "_COLLECTION_NAME = 'test'\n",
    "\n",
    "# Vector parameters\n",
    "_DIM = 1536\n",
    "\n",
    "# Index parameters\n",
    "_METRIC_TYPE = 'L2'\n",
    "_INDEX_TYPE = 'IVF_FLAT'\n",
    "_NLIST = 1024\n",
    "_NPROBE = 16\n",
    "_TOPK = 8"
   ]
  },
  {
   "cell_type": "code",
   "execution_count": 3,
   "metadata": {},
   "outputs": [
    {
     "name": "stdout",
     "output_type": "stream",
     "text": [
      "\n",
      "Create connection...\n",
      "\n",
      "List connections:\n",
      "[('default', <pymilvus.client.grpc_handler.GrpcHandler object at 0x00000217ED0DF850>)]\n",
      "['test']\n"
     ]
    }
   ],
   "source": [
    "# create a connection\n",
    "print(f\"\\nCreate connection...\")\n",
    "connections.connect(host=_HOST, port=_PORT)\n",
    "print(f\"\\nList connections:\")\n",
    "print(connections.list_connections())\n",
    "\n",
    "# show collections\n",
    "print(utility.list_collections())"
   ]
  },
  {
   "cell_type": "code",
   "execution_count": 4,
   "metadata": {},
   "outputs": [],
   "source": [
    "collection = Collection(_COLLECTION_NAME)\n",
    "\n",
    "# load data to memory\n",
    "collection.load()"
   ]
  },
  {
   "cell_type": "code",
   "execution_count": 15,
   "metadata": {},
   "outputs": [
    {
     "name": "stdout",
     "output_type": "stream",
     "text": [
      "4800\n",
      "\n",
      "Search result for 0th vector: \n",
      "Top 0: id: 1204, distance: 15.360064506530762, entity: {'source': 3, 'id': 1204, 'month': 202310, 'company': 1}\n",
      "Top 1: id: 1206, distance: 15.360064506530762, entity: {'source': 3, 'id': 1206, 'month': 202310, 'company': 1}\n",
      "Top 2: id: 1207, distance: 15.360064506530762, entity: {'source': 3, 'id': 1207, 'month': 202310, 'company': 1}\n",
      "Top 3: id: 1203, distance: 15.360064506530762, entity: {'source': 3, 'id': 1203, 'month': 202310, 'company': 1}\n",
      "Top 4: id: 1201, distance: 15.360064506530762, entity: {'source': 3, 'id': 1201, 'month': 202310, 'company': 1}\n",
      "Top 5: id: 1205, distance: 15.360064506530762, entity: {'source': 3, 'id': 1205, 'month': 202310, 'company': 1}\n",
      "Top 6: id: 1202, distance: 15.360064506530762, entity: {'source': 3, 'id': 1202, 'month': 202310, 'company': 1}\n",
      "Top 7: id: 1200, distance: 15.360064506530762, entity: {'source': 3, 'id': 1200, 'month': 202310, 'company': 1}\n"
     ]
    }
   ],
   "source": [
    "source = 3\n",
    "company_id = 2\n",
    "month = 202310\n",
    "\n",
    "print(collection.num_entities)\n",
    "\n",
    "search_param = {\n",
    "    \"data\": [[(source*1e9+company_id*1e8+month*10)*1e-9 for _ in range(_DIM)]],\n",
    "    \"anns_field\": 'embedding',\n",
    "    \"param\": {\"metric_type\": _METRIC_TYPE, \"params\": {\"nprobe\": _NPROBE}},\n",
    "    \"limit\": _TOPK,\n",
    "    \"expr\": '(company == 3 or company==1) and source == 3',\n",
    "    \"output_fields\": [\"id\", \"month\", \"company\", \"source\"]\n",
    "}\n",
    "results = collection.search(**search_param)\n",
    "\n",
    "for i, result in enumerate(results):\n",
    "    print(\"\\nSearch result for {}th vector: \".format(i))\n",
    "    for j, res in enumerate(result):\n",
    "        print(\"Top {}: {}\".format(j, res))"
   ]
  },
  {
   "cell_type": "code",
   "execution_count": null,
   "metadata": {},
   "outputs": [],
   "source": [
    "# release memory\n",
    "collection.release()\n",
    "\n",
    "# # drop collection index\n",
    "# collection.drop_index()\n",
    "\n",
    "# # drop collection\n",
    "# collection.drop()"
   ]
  }
 ],
 "metadata": {
  "kernelspec": {
   "display_name": "llm",
   "language": "python",
   "name": "python3"
  },
  "language_info": {
   "codemirror_mode": {
    "name": "ipython",
    "version": 3
   },
   "file_extension": ".py",
   "mimetype": "text/x-python",
   "name": "python",
   "nbconvert_exporter": "python",
   "pygments_lexer": "ipython3",
   "version": "3.9.18"
  }
 },
 "nbformat": 4,
 "nbformat_minor": 2
}
