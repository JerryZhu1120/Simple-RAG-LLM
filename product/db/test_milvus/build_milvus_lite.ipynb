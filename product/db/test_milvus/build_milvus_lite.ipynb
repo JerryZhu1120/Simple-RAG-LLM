{
 "cells": [
  {
   "cell_type": "markdown",
   "metadata": {},
   "source": [
    "## 使用 Milvus 向量库建立索引\n",
    "\n",
    "官网：https://milvus.io/docs/milvus_lite.md\n",
    "\n",
    "样例：https://github.com/milvus-io/milvus-lite/blob/main/examples/example.py"
   ]
  },
  {
   "cell_type": "code",
   "execution_count": 1,
   "metadata": {},
   "outputs": [],
   "source": [
    "import random\n",
    "from milvus import default_server\n",
    "from pymilvus import (\n",
    "    connections,\n",
    "    FieldSchema, CollectionSchema, DataType,\n",
    "    Collection,\n",
    "    utility\n",
    ")"
   ]
  },
  {
   "cell_type": "code",
   "execution_count": 2,
   "metadata": {},
   "outputs": [],
   "source": [
    "# Optional, if you want store all related data to specific location\n",
    "# default it wil using %APPDATA%/milvus-io/milvus-server\n",
    "default_server.set_base_dir('db')\n",
    "\n",
    "# Optional, if you want cleanup previous data\n",
    "default_server.cleanup()\n",
    "\n",
    "# star you milvus server\n",
    "default_server.start()\n",
    "\n",
    "_HOST = '127.0.0.1'\n",
    "# The port may be changed, by default it's 19530\n",
    "_PORT = default_server.listen_port\n",
    "\n",
    "# Const names\n",
    "_COLLECTION_NAME = 'test'\n",
    "\n",
    "# Vector parameters\n",
    "_DIM = 1536\n",
    "\n",
    "# Index parameters\n",
    "_METRIC_TYPE = 'L2'\n",
    "_INDEX_TYPE = 'IVF_FLAT'\n",
    "_NLIST = 1024\n",
    "_NPROBE = 16\n",
    "_TOPK = 8"
   ]
  },
  {
   "cell_type": "code",
   "execution_count": 3,
   "metadata": {},
   "outputs": [
    {
     "name": "stdout",
     "output_type": "stream",
     "text": [
      "\n",
      "Create connection...\n",
      "\n",
      "List connections:\n",
      "[('default', <pymilvus.client.grpc_handler.GrpcHandler object at 0x000002DC14D23C40>)]\n",
      "['test']\n"
     ]
    }
   ],
   "source": [
    "# create a connection\n",
    "print(f\"\\nCreate connection...\")\n",
    "connections.connect(host=_HOST, port=_PORT)\n",
    "print(f\"\\nList connections:\")\n",
    "print(connections.list_connections())\n",
    "\n",
    "# drop collection if the collection exists\n",
    "if utility.has_collection(_COLLECTION_NAME):\n",
    "    collection = Collection(_COLLECTION_NAME)\n",
    "    collection.drop()\n",
    "    print(\"\\nDrop collection: {}\".format(_COLLECTION_NAME))\n",
    "\n",
    "# create collection\n",
    "id_field = FieldSchema(name='id', dtype=DataType.INT64, description=\"id_int64\", is_primary=True)\n",
    "embedding_field = FieldSchema(name='embedding', dtype=DataType.FLOAT_VECTOR, description=\"embedding_floatvector\", dim=_DIM, is_primary=False)\n",
    "month_field = FieldSchema(name='month', dtype=DataType.INT64, description=\"month_int64\", is_primary=False)\n",
    "company_field = FieldSchema(name='company', dtype=DataType.INT64, description=\"company_int64\", is_primary=False)\n",
    "source_field = FieldSchema(name='source', dtype=DataType.INT64, description=\"source_int64\", is_primary=False)\n",
    "schema = CollectionSchema(fields=[id_field, embedding_field, month_field, company_field, source_field], description=\"storing all data\")\n",
    "collection = Collection(name=_COLLECTION_NAME, data=None, schema=schema, properties={\"collection.ttl.seconds\": 15})\n",
    "\n",
    "collection.set_properties(properties={\"collection.ttl.seconds\": 2**31-1})\n",
    "\n",
    "# show collections\n",
    "print(utility.list_collections())"
   ]
  },
  {
   "cell_type": "code",
   "execution_count": 41,
   "metadata": {},
   "outputs": [
    {
     "name": "stdout",
     "output_type": "stream",
     "text": [
      "4800\n"
     ]
    }
   ],
   "source": [
    "sources = []\n",
    "company_ids = []\n",
    "months = []\n",
    "embeddings = []\n",
    "for source in [1, 2, 3, 4]:\n",
    "    for company_id in [1, 2]:\n",
    "        for month in [202310, 202311, 202312]:\n",
    "            for i in range(100):\n",
    "                sources.append(source)\n",
    "                company_ids.append(company_id)\n",
    "                months.append(month)\n",
    "                embeddings.append([(source*1e9+company_id*1e8+month*10+random.random()) for _ in range(_DIM)])\n",
    "\n",
    "data = [\n",
    "    [i for i in range(len(embeddings))],\n",
    "    embeddings,\n",
    "    months,\n",
    "    company_ids,\n",
    "    sources\n",
    "]\n",
    "\n",
    "collection.insert(data)\n",
    "collection.flush()\n",
    "\n",
    "# get the number of entities\n",
    "print(collection.num_entities)"
   ]
  },
  {
   "cell_type": "code",
   "execution_count": 42,
   "metadata": {},
   "outputs": [
    {
     "name": "stdout",
     "output_type": "stream",
     "text": [
      "\n",
      "Created index:\n",
      "{'index_type': 'IVF_FLAT', 'params': {'nlist': 1024}, 'metric_type': 'L2'}\n"
     ]
    }
   ],
   "source": [
    "# create index\n",
    "index_param = {\n",
    "    \"index_type\": _INDEX_TYPE,\n",
    "    \"params\": {\"nlist\": _NLIST},\n",
    "    \"metric_type\": _METRIC_TYPE}\n",
    "collection.create_index('embedding', index_param)\n",
    "print(\"\\nCreated index:\\n{}\".format(collection.index().params))"
   ]
  },
  {
   "cell_type": "code",
   "execution_count": 44,
   "metadata": {},
   "outputs": [],
   "source": [
    "# load data to memory\n",
    "collection.load()"
   ]
  },
  {
   "cell_type": "code",
   "execution_count": 53,
   "metadata": {},
   "outputs": [
    {
     "name": "stdout",
     "output_type": "stream",
     "text": [
      "4800\n",
      "\n",
      "Search result for 0th vector: \n",
      "Top 0: id: 1504, distance: 0.0, entity: {'company': 2, 'source': 3, 'id': 1504, 'month': 202310}\n",
      "Top 1: id: 1506, distance: 0.0, entity: {'company': 2, 'source': 3, 'id': 1506, 'month': 202310}\n",
      "Top 2: id: 1507, distance: 0.0, entity: {'company': 2, 'source': 3, 'id': 1507, 'month': 202310}\n",
      "Top 3: id: 1503, distance: 0.0, entity: {'company': 2, 'source': 3, 'id': 1503, 'month': 202310}\n",
      "Top 4: id: 1501, distance: 0.0, entity: {'company': 2, 'source': 3, 'id': 1501, 'month': 202310}\n",
      "Top 5: id: 1505, distance: 0.0, entity: {'company': 2, 'source': 3, 'id': 1505, 'month': 202310}\n",
      "Top 6: id: 1502, distance: 0.0, entity: {'company': 2, 'source': 3, 'id': 1502, 'month': 202310}\n",
      "Top 7: id: 1500, distance: 0.0, entity: {'company': 2, 'source': 3, 'id': 1500, 'month': 202310}\n"
     ]
    }
   ],
   "source": [
    "source = 3\n",
    "company_id = 2\n",
    "month = 202311\n",
    "\n",
    "# collection.release()\n",
    "# print(utility.list_collections())\n",
    "# collection = Collection(_COLLECTION_NAME)\n",
    "# collection.load()\n",
    "print(collection.num_entities)\n",
    "\n",
    "search_param = {\n",
    "    \"data\": [[(source*1e9+company_id*1e8+month*10+random.random()) for _ in range(_DIM)]],\n",
    "    \"anns_field\": 'embedding',\n",
    "    \"param\": {\"metric_type\": _METRIC_TYPE, \"params\": {\"nprobe\": 1024}},\n",
    "    \"limit\": _TOPK,\n",
    "    \"expr\": '(company == 2 or company==2) and source == 3',\n",
    "    \"output_fields\": [\"id\", \"month\", \"company\", \"source\"]\n",
    "}\n",
    "results = collection.search(**search_param)\n",
    "\n",
    "for i, result in enumerate(results):\n",
    "    print(\"\\nSearch result for {}th vector: \".format(i))\n",
    "    for j, res in enumerate(result):\n",
    "        print(\"Top {}: {}\".format(j, res))"
   ]
  },
  {
   "cell_type": "code",
   "execution_count": null,
   "metadata": {},
   "outputs": [],
   "source": [
    "# release memory\n",
    "collection.release()\n",
    "\n",
    "# # drop collection index\n",
    "# collection.drop_index()\n",
    "\n",
    "# # drop collection\n",
    "# collection.drop()"
   ]
  }
 ],
 "metadata": {
  "kernelspec": {
   "display_name": "llm",
   "language": "python",
   "name": "python3"
  },
  "language_info": {
   "codemirror_mode": {
    "name": "ipython",
    "version": 3
   },
   "file_extension": ".py",
   "mimetype": "text/x-python",
   "name": "python",
   "nbconvert_exporter": "python",
   "pygments_lexer": "ipython3",
   "version": "3.9.18"
  }
 },
 "nbformat": 4,
 "nbformat_minor": 2
}
