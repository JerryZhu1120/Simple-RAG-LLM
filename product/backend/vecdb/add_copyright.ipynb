{
 "cells": [
  {
   "cell_type": "markdown",
   "metadata": {},
   "source": [
    "init"
   ]
  },
  {
   "cell_type": "code",
   "execution_count": 1,
   "metadata": {},
   "outputs": [
    {
     "name": "stdout",
     "output_type": "stream",
     "text": [
      "Starting Vector DB service...\n",
      "- Connected to: [('default', <pymilvus.client.grpc_handler.GrpcHandler object at 0x7f7f6c5bc9d0>)]\n"
     ]
    }
   ],
   "source": [
    "import json\n",
    "from pymilvus import connections, FieldSchema, CollectionSchema, DataType, Collection, utility\n",
    "\n",
    "with open('../../config.json') as f:\n",
    "    config = json.load(f)[\"vecdb\"]\n",
    "\n",
    "index_param = {\n",
    "    \"index_type\": config[\"index_type\"],\n",
    "    \"params\": config[\"index_params\"],\n",
    "    \"metric_type\": config[\"metric_type\"]\n",
    "    }\n",
    "\n",
    "# start vector db service\n",
    "print(\"Starting Vector DB service...\")\n",
    "connection_retries = config[\"connection_retries\"]\n",
    "for i in range(connection_retries+1):\n",
    "    try:\n",
    "        connections.connect(host=config[\"host\"], port=config[\"port\"])\n",
    "        print(\"- Connected to:\", connections.list_connections())\n",
    "        break\n",
    "    except:\n",
    "        if i == connection_retries:\n",
    "            raise Exception(f\"! Error: cannot connect vector db service with {connection_retries} retries!\")\n",
    "        else:\n",
    "            print(\"- Warning: Failed to connect vector db service, retrying...\")"
   ]
  },
  {
   "cell_type": "markdown",
   "metadata": {},
   "source": [
    "create a new collection"
   ]
  },
  {
   "cell_type": "code",
   "execution_count": 3,
   "metadata": {},
   "outputs": [
    {
     "name": "stdout",
     "output_type": "stream",
     "text": [
      "- Current collections: ['all_data', 'all_data_with_copyright']\n"
     ]
    }
   ],
   "source": [
    "new_collection_name = \"all_data_with_copyright\"\n",
    "\n",
    "if utility.has_collection(new_collection_name):\n",
    "    collection = Collection(new_collection_name)\n",
    "else:\n",
    "    id_field = FieldSchema(name='id', dtype=DataType.INT64, description=\"id_int64\", is_primary=True)\n",
    "    embedding_field = FieldSchema(name='embedding', dtype=DataType.FLOAT_VECTOR, description=\"embedding_floatvector\", dim=config[\"dimension\"], is_primary=False)\n",
    "    month_field = FieldSchema(name='month', dtype=DataType.INT64, description=\"month_int64\", is_primary=False)\n",
    "    company_field = FieldSchema(name='company', dtype=DataType.INT64, description=\"company_int64\", is_primary=False)\n",
    "    datatype_field = FieldSchema(name='datatype', dtype=DataType.INT64, description=\"datatype_int64\", is_primary=False)\n",
    "    copyright_field = FieldSchema(name='copyright', dtype=DataType.INT64, description=\"copyright_int64\", is_primary=False)\n",
    "    schema = CollectionSchema(fields=[id_field, embedding_field, month_field, company_field, datatype_field, copyright_field], description=\"storing all data\")\n",
    "    collection = Collection(name=new_collection_name, data=None, schema=schema, properties={\"collection.ttl.seconds\": 2**31-1})\n",
    "\n",
    "print(\"- Current collections:\", utility.list_collections())"
   ]
  },
  {
   "cell_type": "code",
   "execution_count": 4,
   "metadata": {},
   "outputs": [
    {
     "name": "stdout",
     "output_type": "stream",
     "text": [
      "- Loaded collection, num of vector: 0\n"
     ]
    }
   ],
   "source": [
    "if not collection.has_index():\n",
    "    collection.create_index(field_name=\"embedding\", index_params=index_param)\n",
    "collection.load()\n",
    "print(\"- Loaded collection, num of vector:\", collection.num_entities)"
   ]
  }
 ],
 "metadata": {
  "kernelspec": {
   "display_name": "py39",
   "language": "python",
   "name": "python3"
  },
  "language_info": {
   "codemirror_mode": {
    "name": "ipython",
    "version": 3
   },
   "file_extension": ".py",
   "mimetype": "text/x-python",
   "name": "python",
   "nbconvert_exporter": "python",
   "pygments_lexer": "ipython3",
   "version": "3.9.18"
  }
 },
 "nbformat": 4,
 "nbformat_minor": 2
}
