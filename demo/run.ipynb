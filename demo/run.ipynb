{
 "cells": [
  {
   "cell_type": "code",
   "execution_count": 1,
   "metadata": {},
   "outputs": [],
   "source": [
    "from tqdm import tqdm\n",
    "from src.preprocessor import PreProcessor\n",
    "from src.pipeline import IndexPipeline, QueryPipeline\n",
    "\n",
    "with open('openai.key') as f:\n",
    "    openai_key = f.read().strip()\n",
    "meta_filename = 'data/StockPool.summarySource.json'"
   ]
  },
  {
   "cell_type": "markdown",
   "metadata": {},
   "source": [
    "指定公司名称等信息"
   ]
  },
  {
   "cell_type": "code",
   "execution_count": 2,
   "metadata": {},
   "outputs": [],
   "source": [
    "target_company_code = 'GOOG.O'\n",
    "table_filenames = [\n",
    "    'data/tables/APPL_IS_ADJ_Y.csv',\n",
    "    'data/tables/APPL_IS_ADJ_Q.csv'\n",
    "]\n",
    "version = 1102"
   ]
  },
  {
   "cell_type": "markdown",
   "metadata": {},
   "source": [
    "下载数据"
   ]
  },
  {
   "cell_type": "code",
   "execution_count": 3,
   "metadata": {},
   "outputs": [
    {
     "name": "stdout",
     "output_type": "stream",
     "text": [
      "Warning: Path '../data/GOOG.O_1102' exists, re-collect data again.\n",
      "Will download to: ../data/GOOG.O_1102\n",
      "Collecting: news -> news -> yahoo_contetns_jp\n",
      "Collecting: transcripts -> news -> transcripts\n",
      "Collecting: Press Releases -> sec_gov -> 8-K_data\n",
      "Collecting: news -> news -> news_contents\n",
      "Collecting: news -> news -> benzinga_contents\n",
      "Collecting: news -> news -> cnbc_contents\n",
      "Collecting: news -> news -> news_jp_nikkei_contents\n",
      "Collecting: news -> news -> wsj_contents\n",
      "Collecting: research -> website -> bernste\n",
      "Collecting: research -> website -> neoubs\n",
      "Collecting: research -> website -> aletheia\n",
      "Collecting: research -> website -> marquee\n",
      "Collecting: research -> website -> jefferies\n",
      "Collecting: research -> website -> jpmorgan\n",
      "Collecting: research -> website -> yipit\n",
      "Collecting: research -> website -> cicc\n",
      "research num_docs: 91\n",
      "transcripts num_docs: 5\n",
      "Press Releases num_docs: 9\n",
      "news num_docs: 749\n",
      "tables num_docs: 0\n",
      "Collecting research pdfs ...\n",
      "Finish.\n"
     ]
    }
   ],
   "source": [
    "data_folder = f'data/{target_company_code}_{version}'\n",
    "target_db_path = f'db/{target_company_code}_{version}'\n",
    "preprocessor = PreProcessor(meta_filename, target_company_code)\n",
    "preprocessor.collect_data(data_folder)"
   ]
  },
  {
   "cell_type": "markdown",
   "metadata": {},
   "source": [
    "转换并保存数据"
   ]
  },
  {
   "cell_type": "code",
   "execution_count": 4,
   "metadata": {},
   "outputs": [
    {
     "name": "stderr",
     "output_type": "stream",
     "text": [
      "  0%|          | 0/91 [00:00<?, ?it/s]"
     ]
    },
    {
     "name": "stderr",
     "output_type": "stream",
     "text": [
      " 42%|████▏     | 38/91 [00:38<01:47,  2.03s/it]Overwriting cache for 0 359\n",
      " 43%|████▎     | 39/91 [00:38<01:17,  1.48s/it]invalid pdf header: b'<div '\n",
      "EOF marker not found\n"
     ]
    },
    {
     "name": "stdout",
     "output_type": "stream",
     "text": [
      "! Error in processing mq_fc326f94-c502-4854-8efb-5846b4e6e6df.pdf, skip it:\n",
      "Stream has ended unexpectedly\n"
     ]
    },
    {
     "name": "stderr",
     "output_type": "stream",
     "text": [
      " 75%|███████▍  | 68/91 [01:12<00:36,  1.60s/it]invalid pdf header: b'<html'\n",
      "EOF marker not found\n",
      "invalid pdf header: b'<html'\n",
      "EOF marker not found\n",
      "invalid pdf header: b'<html'\n",
      "EOF marker not found\n",
      "invalid pdf header: b'<html'\n",
      "EOF marker not found\n",
      "invalid pdf header: b'<html'\n",
      "EOF marker not found\n",
      "invalid pdf header: b'<html'\n",
      "EOF marker not found\n",
      "invalid pdf header: b'<html'\n",
      "EOF marker not found\n",
      "invalid pdf header: b'<html'\n",
      "EOF marker not found\n",
      "invalid pdf header: b'<html'\n",
      "EOF marker not found\n",
      "invalid pdf header: b'<html'\n",
      "EOF marker not found\n",
      "invalid pdf header: b'<html'\n",
      "EOF marker not found\n",
      "invalid pdf header: b'<html'\n",
      "EOF marker not found\n",
      "invalid pdf header: b'<html'\n",
      "EOF marker not found\n",
      "invalid pdf header: b'<html'\n",
      "EOF marker not found\n",
      "invalid pdf header: b'<html'\n",
      "EOF marker not found\n",
      "invalid pdf header: b'<html'\n",
      "EOF marker not found\n",
      "invalid pdf header: b'<html'\n",
      "EOF marker not found\n",
      "invalid pdf header: b'<html'\n",
      "EOF marker not found\n",
      " 95%|█████████▍| 86/91 [01:13<00:00,  5.29it/s]invalid pdf header: b'<html'\n",
      "EOF marker not found\n",
      "invalid pdf header: b'<html'\n",
      "EOF marker not found\n",
      "invalid pdf header: b'<html'\n",
      "EOF marker not found\n"
     ]
    },
    {
     "name": "stdout",
     "output_type": "stream",
     "text": [
      "! Error in processing yipit_e4ec19b4-7f54-4edf-8e2b-575a7a810b78.pdf, skip it:\n",
      "Stream has ended unexpectedly\n",
      "! Error in processing yipit_6daeb930-e8ab-4d0f-a729-f765c99e27f2.pdf, skip it:\n",
      "Stream has ended unexpectedly\n",
      "! Error in processing yipit_3722cb62-0025-4349-8d82-19ea8dde6614.pdf, skip it:\n",
      "Stream has ended unexpectedly\n",
      "! Error in processing yipit_f3c5ba8d-6fe1-4585-86c7-7c3a70e61c73.pdf, skip it:\n",
      "Stream has ended unexpectedly\n",
      "! Error in processing yipit_b9e58bb1-9a12-4084-b401-b817aab75932.pdf, skip it:\n",
      "Stream has ended unexpectedly\n",
      "! Error in processing yipit_78388624-ea99-4ce1-b80a-4b4eb31b8f9c.pdf, skip it:\n",
      "Stream has ended unexpectedly\n",
      "! Error in processing yipit_60378cad-c6b9-4ad1-84e8-34c5730e3668.pdf, skip it:\n",
      "Stream has ended unexpectedly\n",
      "! Error in processing yipit_7c273be1-df8d-4fee-b3cb-9fc148971b63.pdf, skip it:\n",
      "Stream has ended unexpectedly\n",
      "! Error in processing yipit_da21cb4b-ede5-4902-9229-75c716df2227.pdf, skip it:\n",
      "Stream has ended unexpectedly\n",
      "! Error in processing yipit_f789ca26-5742-4588-9081-f3f532be5ae8.pdf, skip it:\n",
      "Stream has ended unexpectedly\n",
      "! Error in processing yipit_dfd0e673-4c4a-4146-8072-89de061b29ab.pdf, skip it:\n",
      "Stream has ended unexpectedly\n",
      "! Error in processing yipit_da99325b-b714-4d54-b896-a38f4bd53575.pdf, skip it:\n",
      "Stream has ended unexpectedly\n",
      "! Error in processing yipit_e98c73b5-a143-4181-ab1d-ea4e337811e8.pdf, skip it:\n",
      "Stream has ended unexpectedly\n",
      "! Error in processing yipit_31e9ba57-e17a-4d18-93c0-04884390da17.pdf, skip it:\n",
      "Stream has ended unexpectedly\n",
      "! Error in processing yipit_82fba8c3-fc7f-49a7-9519-75d772e53908.pdf, skip it:\n",
      "Stream has ended unexpectedly\n",
      "! Error in processing yipit_74a16257-3fb0-4760-902e-d0a458993798.pdf, skip it:\n",
      "Stream has ended unexpectedly\n",
      "! Error in processing yipit_856681ff-11ff-4dc5-a85e-a4fb9801f9e1.pdf, skip it:\n",
      "Stream has ended unexpectedly\n",
      "! Error in processing yipit_f8c73360-188d-44d3-8a78-fb94d344651b.pdf, skip it:\n",
      "Stream has ended unexpectedly\n",
      "! Error in processing yipit_b42f66f7-00d6-4dea-96b3-a2a45b18aa74.pdf, skip it:\n",
      "Stream has ended unexpectedly\n",
      "! Error in processing yipit_5ad94217-d04f-43a1-9fb8-2c3e3456abab.pdf, skip it:\n",
      "Stream has ended unexpectedly\n",
      "! Error in processing yipit_86f2a023-de69-455b-8bcb-ba348d0c3d6d.pdf, skip it:\n",
      "Stream has ended unexpectedly\n"
     ]
    },
    {
     "name": "stderr",
     "output_type": "stream",
     "text": [
      "100%|██████████| 91/91 [01:14<00:00,  1.22it/s]"
     ]
    },
    {
     "name": "stdout",
     "output_type": "stream",
     "text": [
      "Processing tables ...\n",
      "Writing to db/GOOG.O_1102\\table.full_text\n"
     ]
    },
    {
     "name": "stderr",
     "output_type": "stream",
     "text": [
      "\n"
     ]
    }
   ],
   "source": [
    "preprocessor.transform_and_save()\n",
    "preprocessor.process_table(table_filenames, target_db_path, update_time=\"2023-11-01\")"
   ]
  },
  {
   "cell_type": "markdown",
   "metadata": {},
   "source": [
    "构建索引"
   ]
  },
  {
   "cell_type": "code",
   "execution_count": 5,
   "metadata": {},
   "outputs": [
    {
     "name": "stdout",
     "output_type": "stream",
     "text": [
      "['../data/GOOG.O_1102/research.json', '../data/GOOG.O_1102/news.json', '../data/GOOG.O_1102/transcripts.json', '../data/GOOG.O_1102/press.json', '../data/GOOG.O_1102/table.json']\n",
      "['full_text', 'summaryText', 'summaryText', 'summaryText', 'full_text']\n",
      "['db/GOOG.O_1102\\\\research.full_text', 'db/GOOG.O_1102\\\\news.summaryText', 'db/GOOG.O_1102\\\\transcripts.summaryText', 'db/GOOG.O_1102\\\\press.summaryText', 'db/GOOG.O_1102\\\\table.full_text']\n"
     ]
    }
   ],
   "source": [
    "data_filenames = preprocessor.get_data_filenames()\n",
    "text_levels = preprocessor.get_text_levels()\n",
    "db_paths = preprocessor.get_db_paths(target_db_path)\n",
    "print(data_filenames)\n",
    "print(text_levels)\n",
    "print(db_paths)"
   ]
  },
  {
   "cell_type": "code",
   "execution_count": 6,
   "metadata": {},
   "outputs": [
    {
     "name": "stdout",
     "output_type": "stream",
     "text": [
      "Building index from ../data/GOOG.O_1102/research.json\n",
      "Data source:'../data/GOOG.O_1102/research.json', data name:'research', db path:'db/GOOG.O_1102\\research.full_text'\n",
      "File 'db/GOOG.O_1102\\research.full_text/extracted_data.json' exists, skip extract data.\n",
      "File 'db/GOOG.O_1102\\research.full_text/embeddings.json' exists, skip create embeddings.\n",
      "db path:'db/GOOG.O_1102\\research.full_text'\n",
      "File 'db/GOOG.O_1102\\research.full_text/faiss.index' exists, skip build index.\n",
      "----------------------------------------\n",
      "Building index from ../data/GOOG.O_1102/news.json\n",
      "Data source:'../data/GOOG.O_1102/news.json', data name:'news', db path:'db/GOOG.O_1102\\news.summaryText'\n",
      "File 'db/GOOG.O_1102\\news.summaryText/extracted_data.json' exists, skip extract data.\n",
      "File 'db/GOOG.O_1102\\news.summaryText/embeddings.json' exists, skip create embeddings.\n",
      "db path:'db/GOOG.O_1102\\news.summaryText'\n",
      "File 'db/GOOG.O_1102\\news.summaryText/faiss.index' exists, skip build index.\n",
      "----------------------------------------\n",
      "Building index from ../data/GOOG.O_1102/transcripts.json\n",
      "Data source:'../data/GOOG.O_1102/transcripts.json', data name:'transcripts', db path:'db/GOOG.O_1102\\transcripts.summaryText'\n",
      "File 'db/GOOG.O_1102\\transcripts.summaryText/extracted_data.json' exists, skip extract data.\n",
      "File 'db/GOOG.O_1102\\transcripts.summaryText/embeddings.json' exists, skip create embeddings.\n",
      "db path:'db/GOOG.O_1102\\transcripts.summaryText'\n",
      "File 'db/GOOG.O_1102\\transcripts.summaryText/faiss.index' exists, skip build index.\n",
      "----------------------------------------\n",
      "Building index from ../data/GOOG.O_1102/press.json\n",
      "Data source:'../data/GOOG.O_1102/press.json', data name:'press', db path:'db/GOOG.O_1102\\press.summaryText'\n",
      "Start extract data to db/GOOG.O_1102\\press.summaryText/extracted_data.json ...\n",
      "- Done. Doc cnt: 9.\n",
      "Start split texts into chunks ...\n",
      "- Done. Chunk_cnt:338, write to 'db/GOOG.O_1102\\press.summaryText/extracted_data.json'.\n",
      "Start create embeddings ...\n"
     ]
    },
    {
     "name": "stderr",
     "output_type": "stream",
     "text": [
      "338it [00:21, 15.71it/s]\n"
     ]
    },
    {
     "name": "stdout",
     "output_type": "stream",
     "text": [
      "- Done. Current Embedding cnt: 338, write to 'db/GOOG.O_1102\\press.summaryText/embeddings.json'.\n",
      "- Done. Final Embedding cnt: 338, write to 'db/GOOG.O_1102\\press.summaryText/embeddings.json'.\n",
      "db path:'db/GOOG.O_1102\\press.summaryText'\n",
      "Start build index ...\n",
      "- Done. Embeddings cnt: 338, write to 'db/GOOG.O_1102\\press.summaryText/faiss.index'.\n",
      "----------------------------------------\n",
      "Building index from ../data/GOOG.O_1102/table.json\n",
      "Data source:'../data/GOOG.O_1102/table.json', data name:'table', db path:'db/GOOG.O_1102\\table.full_text'\n",
      "File 'db/GOOG.O_1102\\table.full_text/extracted_data.json' exists, skip extract data.\n",
      "Start create embeddings ...\n"
     ]
    },
    {
     "name": "stderr",
     "output_type": "stream",
     "text": [
      "21it [00:03,  6.35it/s]\n"
     ]
    },
    {
     "name": "stdout",
     "output_type": "stream",
     "text": [
      "- Done. Current Embedding cnt: 21, write to 'db/GOOG.O_1102\\table.full_text/embeddings.json'.\n",
      "- Done. Final Embedding cnt: 21, write to 'db/GOOG.O_1102\\table.full_text/embeddings.json'.\n",
      "db path:'db/GOOG.O_1102\\table.full_text'\n",
      "Start build index ...\n",
      "- Done. Embeddings cnt: 21, write to 'db/GOOG.O_1102\\table.full_text/faiss.index'.\n",
      "----------------------------------------\n"
     ]
    }
   ],
   "source": [
    "for data_filename, text_level, db_path in zip(data_filenames, text_levels, db_paths):\n",
    "    print(\"Building index from {}\".format(data_filename))\n",
    "    index_pipeline = IndexPipeline(data_filename, db_path, openai_key)\n",
    "    index_pipeline.run(text_level, use_product_name=False)\n",
    "    print('-'*40)"
   ]
  },
  {
   "cell_type": "markdown",
   "metadata": {},
   "source": [
    "测试查询"
   ]
  },
  {
   "cell_type": "code",
   "execution_count": 7,
   "metadata": {},
   "outputs": [],
   "source": [
    "db_ids = [0,1,2,3]\n",
    "model_ids = [1]\n",
    "queries = [ \n",
    "    \"What is the revenue of Google?\",\n",
    "]"
   ]
  },
  {
   "cell_type": "markdown",
   "metadata": {},
   "source": [
    "初始化查询"
   ]
  },
  {
   "cell_type": "code",
   "execution_count": 8,
   "metadata": {},
   "outputs": [
    {
     "name": "stdout",
     "output_type": "stream",
     "text": [
      "db path:'db/GOOG.O_1102\\research.full_text'\n",
      "Prepare metadata, rawdata and index for search ...\n",
      "- Done. Doc cnt: 69\n",
      "db path:'db/GOOG.O_1102\\news.summaryText'\n",
      "Prepare metadata, rawdata and index for search ...\n",
      "- Done. Doc cnt: 749\n",
      "db path:'db/GOOG.O_1102\\transcripts.summaryText'\n",
      "Prepare metadata, rawdata and index for search ...\n",
      "- Done. Doc cnt: 5\n",
      "db path:'db/GOOG.O_1102\\press.summaryText'\n",
      "Prepare metadata, rawdata and index for search ...\n",
      "- Done. Doc cnt: 9\n",
      "db path:'db/GOOG.O_1102\\table.full_text'\n",
      "Prepare metadata, rawdata and index for search ...\n",
      "- Done. Doc cnt: 2\n"
     ]
    }
   ],
   "source": [
    "query_pipeline = QueryPipeline(db_paths, openai_key)\n",
    "query_pipeline.prepare()"
   ]
  },
  {
   "cell_type": "markdown",
   "metadata": {},
   "source": [
    "执行查询"
   ]
  },
  {
   "cell_type": "code",
   "execution_count": 9,
   "metadata": {},
   "outputs": [
    {
     "name": "stdout",
     "output_type": "stream",
     "text": [
      "Query: What is the revenue of Google?\n",
      "谷歌（Google）的最新收入报告在文段1中，这是关于最近该季度的具体收入报告。根据文段1，谷歌服务的收入为680亿美元，其中搜索和其他广告收入为440亿美元；YouTube广告收入为80亿美元；网络广告收入为77亿美元；其他收入为83亿美元。\n",
      "然而，如果你想要了解上一年度，即2022年整年的收入，我就无法提供确切的数字，因为这需要谷歌的年度报告，以上的资料中并未提供此信息。\n",
      "每个季度的收入可以在文段1到文段6中找到，但请注意这并不完全等同于年度总收入，因为每个季度可能会有显著的季节性波动。（参考段落[1]）\n",
      "\n",
      "\n",
      "【参考文档】：\n",
      "\n",
      "【1】(Alphabet Inc. (GOOG) Q3 2023 Earnings Call Transcript) | 文档id：sAts_4643107，文段起始位置：21904\n",
      " ... Turning to segment results. Within Google Services, revenues were $68 billion, up 11%. Google Search and other advertising revenues of $44 billion in the quarter were up 11%, led again by growth in retail. YouTube advertising revenues of $8 billion were up 12%, driven by both brand advertising and direct response. Network advertising revenues of $7.7 billion were down 3%. Other revenues were $8.3 billion, up 21%, primarily reflecting growth in YouTube non-advertising revenues driven by subscriber growth in YouTube TV followed by YouTube Music Premium. TAC was $12.6 billion, up 7%. Google Services operating income was $23.9 billion, up 27% and the operating margin was 35%. ...\n",
      "\n",
      "【2】(Alphabet Inc. (GOOG) Q2 2023 Earnings Call Transcript) | 文档id：sAts_4619735，文段起始位置：23974\n",
      " ... Within Google Services, revenues were $66.3 billion, up 5%. Google Search and other advertising revenues of $42.6 billion in the quarter were up 5%, led by growth in retail. YouTube advertising revenues of $7.7 billion were up 4%, driven by brand advertising, followed by direct response, reflecting further stabilization in spending by advertisers. Network advertising revenues of $7.9 billion were down 5%. Other revenues were $8.1 billion, up 24%, reflecting growth in YouTube non-advertising revenues, primarily from subscription growth in YouTube Music Premium and YouTube TV, followed by growth in hardware revenues, primarily driven by the launch of the Pixel 7a in the second quarter. Finally, Play returned to positive growth in the second quarter. TAC was $12.5 billion, up 3%. Google Services operating income was $23.5 billion, up 8%, and the operating margin was 35%. ...\n",
      "\n",
      "【3】(Alphabet Inc. (GOOG) Q1 2023 Earnings Call Transcript) | 文档id：sAts_4596558，文段起始位置：22458\n",
      " ... Starting with Google Services. Revenues were $62 billion, up 1%. Google Search and other advertising revenues of $40.4 billion in the quarter were up 2%. YouTube advertising revenues of $6.7 billion were down 3%. Network advertising revenues of $7.5 billion were down 8%. Other revenues were $7.4 billion, up 9%, reflecting primarily ongoing significant subscriber growth in YouTube TV and YouTube Music Premium. TAC was $11.7 billion, down 2%, primarily reflecting a mix shift between search and Network. Google Services operating income was $21.7 billion, down 1%, and the operating margin was 35%. ...\n",
      "\n",
      "【4】(Alphabet Inc. (GOOG) Q1 2023 Earnings Call Transcript) | 文档id：sAts_4596558，文段起始位置：12267\n",
      " ... Google Services revenue of $62 billion were up 1% year-on-year, including the effect of a modest foreign exchange headwind. In Google Advertising, Search and Other, revenues grew 2% year-over-year, reflecting an increase in the travel and retail verticals, offset partially by a decline in finance as well as in media and entertainment. In YouTube Ads, we saw signs of stabilization and performance, while in network, there was an incremental pullback in advertiser spend. Google Other revenues were up 9% year-over-year, led by strong growth in YouTube subscriptions revenues. ...\n",
      "\n",
      "【5】(Alphabet Inc. (GOOG) Q3 2022 Earnings Call Transcript) | 文档id：sAts_4549115，文段起始位置：21432\n",
      " ... Starting with our Google Services segment. Total Google Services revenues were $61.4 billion, up 2%. Across our advertising revenues, the year-over-year deceleration in growth rates versus the third quarter of last year was largely driven by lapping very strong performance, most notably in Search and other revenues. Additionally, the year-on-year deceleration on YouTube and Network reflects a pullback in spend by some advertisers as we first noted last quarter. ...\n",
      "\n",
      "【6】(Alphabet Inc. (GOOG) Q3 2022 Earnings Call Transcript) | 文档id：sAts_4549115，文段起始位置：21899\n",
      " ... In terms of the revenue lines, Google Search and other advertising revenues of $39.5 billion in the quarter were up 4%. YouTube advertising revenues of $7.1 billion were down 2%. Network advertising revenues of $7.9 billion were down 2%. Other revenues were $6.9 billion, up 2%, reflecting several factors: first, subscriber growth in YouTube Music Premium and YouTube TV continued to drive ongoing strong growth in YouTube non-advertising revenues; second, we delivered solid growth in hardware revenues, primarily from sales of the Pixel 6a; finally, the growth in these two areas was offset by a year-on-year decline in Play revenues, reflecting a slowdown in buyer spend due to a number of factors, including lower engagement levels in gaming compared with earlier stages of the pandemic. In terms of costs within Google Services, TAC was $11.8 billion, up 3%. Google Services operating income was $19.8 billion, down 17% and the operating margin was 32%. ...\n",
      "\n",
      "【7】(Google Ventures into Renewable Energy Mapping, Targets $100M Revenue with New API Offerings) | 文档id：benzinga_34083114，文段起始位置：1775\n",
      " ... In 2021, Morgan Stanley analyst Brian Nowak estimated Google Maps would earn $11.1 billion as new travel products and promoted pins began to boost ad revenue.In July, Alphabet reported second-quarter revenue growth of 7% year-over-year to $74.604 billion, which beat the consensus of $65.42 billion. The company reported quarterly earnings of $1.44 per share, which beat analyst estimates of $1.20 per share.Search revenue came in at $42.628 billion, Cloud revenue totaled $8.031 billion, and YouTube ads revenue hit $7.665 billion in the quarter.Price Action: GOOG shares traded higher by 0.61% at $132.60 in the premarket on the last check Tuesday. ...\n",
      "\n",
      "【8】(Press release of Alphabet Inc. dated October 25, 2022) | 文档id：8-K_dd8de87b6d0f4cb47b751935b4e90dd4，文段起始位置：25995\n",
      " ... |  |  |  |  |  |  |  |  |  |  |  |  ||  | Quarter Ended September 30, ||  | 2021 |  | 2022 || Revenues: |  |  |  || Google Services | $ | 59,884  |  |  | $ | 61,377  |  || Google Cloud | 4,990  |  |  | 6,868  |  || Other Bets | 182  |  |  | 209  |  || Hedging gains (losses) | 62  |  |  | 638  |  || Total revenues | $ | 65,118  |  |  | $ | 69,092  |  ||  |  |  |  ||  |  ||  |  |  |  || Operating income (loss): |  |  |  || Google Services | $ | 23,973  |  |  | $ | 19,781  |  || Google Cloud | (644) |  |  | (699) |  || Other Bets | (1,288) |  |  | (1,611) |  || Corporate costs, unallocated | (1,010) |  |  | (336) |  || Total income from operations | $ | 21,031  |  |  | $ | 17,135  |  | ...\n",
      "\n",
      "\n",
      "- 用户input向量化耗时：1.6051380634307861s\n",
      "- 向量检索耗时：0.0049321651458740234s\n",
      "- GPT总结耗时：43.41362476348877s\n",
      "----------------------------------------\n",
      "\n"
     ]
    }
   ],
   "source": [
    "for query in queries:\n",
    "    print(\"Query: {}\".format(query))\n",
    "    outputs, search_results, encode_time, search_time, respond_time = query_pipeline.query(query, 8, db_ids, model_ids)\n",
    "    output = outputs[0][\"summary\"]\n",
    "    print(output + \"\\n\")\n",
    "    print(\"\\n【参考文档】：\\n\")\n",
    "    for i, each in enumerate(search_results):\n",
    "        title = each[\"title\"]\n",
    "        id = each[\"id\"]\n",
    "        text = each[\"chunk_text\"].replace('\\n', '')\n",
    "        start_index = each[\"start_index\"]\n",
    "        print(f\"【{i+1}】({title}) | 文档id：{id}，文段起始位置：{start_index}\\n ... {text} ...\\n\")\n",
    "    print(f\"\\n- 用户input向量化耗时：{encode_time}s\\n- 向量检索耗时：{search_time}s\\n- GPT总结耗时：{respond_time}s\\n\"+ \"-\"*40 + \"\\n\")"
   ]
  }
 ],
 "metadata": {
  "kernelspec": {
   "display_name": "llm",
   "language": "python",
   "name": "python3"
  },
  "language_info": {
   "codemirror_mode": {
    "name": "ipython",
    "version": 3
   },
   "file_extension": ".py",
   "mimetype": "text/x-python",
   "name": "python",
   "nbconvert_exporter": "python",
   "pygments_lexer": "ipython3",
   "version": "3.9.18"
  }
 },
 "nbformat": 4,
 "nbformat_minor": 2
}
